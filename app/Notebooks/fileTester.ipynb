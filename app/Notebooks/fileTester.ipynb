{
 "cells": [
  {
   "cell_type": "markdown",
   "id": "617a16a5",
   "metadata": {},
   "source": [
    "# Import File"
   ]
  },
  {
   "cell_type": "code",
   "execution_count": null,
   "id": "1da2abb9",
   "metadata": {},
   "outputs": [],
   "source": [
    "from app.FileHandling.fileHandler import *\n",
    "testImage = '/Users/Makkink/Library/CloudStorage/OneDrive-Personal/Documenten/PHD/coding/Quil2Vec/Sample Files/manuscripts_3369_full.jpg'\n",
    "outFileString = '/Users/Makkink/Library/CloudStorage/OneDrive-Personal/Documenten/PHD/coding/Quil2Vec/Sample Files/test4.xqv'"
   ]
  },
  {
   "cell_type": "code",
   "execution_count": 2,
   "id": "c2a21d7d",
   "metadata": {},
   "outputs": [
    {
     "name": "stdout",
     "output_type": "stream",
     "text": [
      "Processing Image 1 of 1\n",
      "Setting up settings for first image\n",
      "tracing Image\n",
      "converting traced image to SVG\n",
      "Reading path 6209\n",
      "sorting out paths of image\n"
     ]
    }
   ],
   "source": [
    "file = importImage(testImage, '.jpg', 'test', False)"
   ]
  },
  {
   "cell_type": "code",
   "execution_count": null,
   "id": "5dc21b9e",
   "metadata": {},
   "outputs": [],
   "source": [
    "for p in file.pages['manuscripts_3369_full.jpg'].layers['layer1'].paths:\n",
    "    try:\n",
    "        p.d()\n",
    "    except Exception as e:\n",
    "        for s in p:\n",
    "            try:\n",
    "            # if type(s) == str:\n",
    "            #     print(s)\n",
    "                s._d()\n",
    "            except:\n",
    "                print(s)\n",
    "                raise e\n"
   ]
  },
  {
   "cell_type": "code",
   "execution_count": 3,
   "id": "e2eb1331",
   "metadata": {},
   "outputs": [],
   "source": [
    "from svg.path.path import Line, Move, CubicBezier, QuadraticBezier, Arc, Close, PathSegment, Path\n",
    "\n",
    "\n",
    "for p in file.pages['manuscripts_3369_full.jpg'].layers['layer1'].paths:\n",
    "    for s in p:\n",
    "        # print(type(p))\n",
    "        if isinstance(s, Path):\n",
    "            print(p)\n",
    "            print(s)\n",
    "            break"
   ]
  },
  {
   "cell_type": "code",
   "execution_count": 4,
   "id": "cffab807",
   "metadata": {},
   "outputs": [],
   "source": [
    "file.toSave(\"/Users/Makkink/Library/CloudStorage/OneDrive-Personal/Documenten/PHD/coding/Quil2Vec/Sample Files/test4.xqv\")"
   ]
  },
  {
   "cell_type": "code",
   "execution_count": null,
   "id": "0ae0f6cd",
   "metadata": {},
   "outputs": [],
   "source": [
    "from app.ImageProcessing.imageProcessing import *\n",
    "testImage = '/Users/Makkink/Library/CloudStorage/OneDrive-Personal/Documenten/PHD/coding/Quil2Vec/Sample Files/manuscripts_3369_full.jpg'\n",
    "outFileString = '/Users/Makkink/Library/CloudStorage/OneDrive-Personal/Documenten/PHD/coding/Quil2Vec/Sample Files/test4.xqv'"
   ]
  },
  {
   "cell_type": "code",
   "execution_count": 2,
   "id": "2fab48bf",
   "metadata": {},
   "outputs": [],
   "source": [
    "settings = imagePreProcessSettings()\n",
    "# settings.\n",
    "image = binarizeForVectorTracing(testImage)"
   ]
  },
  {
   "cell_type": "code",
   "execution_count": 5,
   "id": "70fae971",
   "metadata": {},
   "outputs": [
    {
     "data": {
      "text/plain": [
       "numpy.ndarray"
      ]
     },
     "execution_count": 5,
     "metadata": {},
     "output_type": "execute_result"
    }
   ],
   "source": [
    "type(image)"
   ]
  },
  {
   "cell_type": "code",
   "execution_count": 3,
   "id": "3efae2a5",
   "metadata": {},
   "outputs": [
    {
     "name": "stderr",
     "output_type": "stream",
     "text": [
      "2025-04-18 14:28:06.273 python[58981:13945651] +[IMKClient subclass]: chose IMKClient_Legacy\n",
      "2025-04-18 14:28:06.273 python[58981:13945651] +[IMKInputSession subclass]: chose IMKInputSession_Legacy\n"
     ]
    }
   ],
   "source": [
    "cv2.imshow('test image',image)\n",
    "cv2.waitKey(0)  # Waits for a key press to close\n",
    "cv2.destroyAllWindows()"
   ]
  },
  {
   "cell_type": "code",
   "execution_count": 4,
   "id": "d98a4975",
   "metadata": {},
   "outputs": [
    {
     "ename": "AttributeError",
     "evalue": "'numpy.ndarray' object has no attribute 'width'",
     "output_type": "error",
     "traceback": [
      "\u001b[0;31m---------------------------------------------------------------------------\u001b[0m",
      "\u001b[0;31mAttributeError\u001b[0m                            Traceback (most recent call last)",
      "Cell \u001b[0;32mIn[4], line 1\u001b[0m\n\u001b[0;32m----> 1\u001b[0m image\u001b[38;5;241m.\u001b[39mwidth\n",
      "\u001b[0;31mAttributeError\u001b[0m: 'numpy.ndarray' object has no attribute 'width'"
     ]
    }
   ],
   "source": [
    "image.width"
   ]
  },
  {
   "cell_type": "code",
   "execution_count": 3,
   "id": "d91bea63",
   "metadata": {},
   "outputs": [],
   "source": [
    "traceResults = traceImage(image)"
   ]
  },
  {
   "cell_type": "code",
   "execution_count": 2,
   "id": "824953aa",
   "metadata": {},
   "outputs": [],
   "source": [
    "from xml.etree import ElementTree as ET\n",
    "import pickle\n",
    "with open('/Users/Makkink/Library/CloudStorage/OneDrive-Personal/Documenten/PHD/coding/Quil2Vec/ERRORPICKLE.pypickle', 'rb') as infile:\n",
    "    txml = pickle.load(infile)\n",
    "\n",
    "# ET.fromstring"
   ]
  },
  {
   "cell_type": "code",
   "execution_count": 4,
   "id": "edce4e70",
   "metadata": {},
   "outputs": [
    {
     "ename": "TypeError",
     "evalue": "cannot serialize PosixPath('/Users/Makkink/Library/CloudStorage/OneDrive-Personal/Documenten/PHD/coding/Quil2Vec/Sample Files/manuscripts_3369_full.jpg') (type PosixPath)",
     "output_type": "error",
     "traceback": [
      "\u001b[0;31m---------------------------------------------------------------------------\u001b[0m",
      "\u001b[0;31mAttributeError\u001b[0m                            Traceback (most recent call last)",
      "File \u001b[0;32m~/anaconda3/lib/python3.11/xml/etree/ElementTree.py:757\u001b[0m, in \u001b[0;36m_get_writer\u001b[0;34m(file_or_filename, encoding)\u001b[0m\n\u001b[1;32m    756\u001b[0m \u001b[38;5;28;01mtry\u001b[39;00m:\n\u001b[0;32m--> 757\u001b[0m     write \u001b[38;5;241m=\u001b[39m file_or_filename\u001b[38;5;241m.\u001b[39mwrite\n\u001b[1;32m    758\u001b[0m \u001b[38;5;28;01mexcept\u001b[39;00m \u001b[38;5;167;01mAttributeError\u001b[39;00m:\n\u001b[1;32m    759\u001b[0m     \u001b[38;5;66;03m# file_or_filename is a file name\u001b[39;00m\n",
      "\u001b[0;31mAttributeError\u001b[0m: 'str' object has no attribute 'write'",
      "\nDuring handling of the above exception, another exception occurred:\n",
      "\u001b[0;31mTypeError\u001b[0m                                 Traceback (most recent call last)",
      "Cell \u001b[0;32mIn[4], line 1\u001b[0m\n\u001b[0;32m----> 1\u001b[0m txml\u001b[38;5;241m.\u001b[39mwrite(\u001b[38;5;124m'\u001b[39m\u001b[38;5;124mtested.xml\u001b[39m\u001b[38;5;124m'\u001b[39m)\n",
      "File \u001b[0;32m~/anaconda3/lib/python3.11/xml/etree/ElementTree.py:743\u001b[0m, in \u001b[0;36mElementTree.write\u001b[0;34m(self, file_or_filename, encoding, xml_declaration, default_namespace, method, short_empty_elements)\u001b[0m\n\u001b[1;32m    741\u001b[0m qnames, namespaces \u001b[38;5;241m=\u001b[39m _namespaces(\u001b[38;5;28mself\u001b[39m\u001b[38;5;241m.\u001b[39m_root, default_namespace)\n\u001b[1;32m    742\u001b[0m serialize \u001b[38;5;241m=\u001b[39m _serialize[method]\n\u001b[0;32m--> 743\u001b[0m serialize(write, \u001b[38;5;28mself\u001b[39m\u001b[38;5;241m.\u001b[39m_root, qnames, namespaces,\n\u001b[1;32m    744\u001b[0m           short_empty_elements\u001b[38;5;241m=\u001b[39mshort_empty_elements)\n",
      "File \u001b[0;32m~/anaconda3/lib/python3.11/xml/etree/ElementTree.py:906\u001b[0m, in \u001b[0;36m_serialize_xml\u001b[0;34m(write, elem, qnames, namespaces, short_empty_elements, **kwargs)\u001b[0m\n\u001b[1;32m    904\u001b[0m         write(_escape_cdata(text))\n\u001b[1;32m    905\u001b[0m     \u001b[38;5;28;01mfor\u001b[39;00m e \u001b[38;5;129;01min\u001b[39;00m elem:\n\u001b[0;32m--> 906\u001b[0m         _serialize_xml(write, e, qnames, \u001b[38;5;28;01mNone\u001b[39;00m,\n\u001b[1;32m    907\u001b[0m                        short_empty_elements\u001b[38;5;241m=\u001b[39mshort_empty_elements)\n\u001b[1;32m    908\u001b[0m     write(\u001b[38;5;124m\"\u001b[39m\u001b[38;5;124m</\u001b[39m\u001b[38;5;124m\"\u001b[39m \u001b[38;5;241m+\u001b[39m tag \u001b[38;5;241m+\u001b[39m \u001b[38;5;124m\"\u001b[39m\u001b[38;5;124m>\u001b[39m\u001b[38;5;124m\"\u001b[39m)\n\u001b[1;32m    909\u001b[0m \u001b[38;5;28;01melse\u001b[39;00m:\n",
      "File \u001b[0;32m~/anaconda3/lib/python3.11/xml/etree/ElementTree.py:906\u001b[0m, in \u001b[0;36m_serialize_xml\u001b[0;34m(write, elem, qnames, namespaces, short_empty_elements, **kwargs)\u001b[0m\n\u001b[1;32m    904\u001b[0m         write(_escape_cdata(text))\n\u001b[1;32m    905\u001b[0m     \u001b[38;5;28;01mfor\u001b[39;00m e \u001b[38;5;129;01min\u001b[39;00m elem:\n\u001b[0;32m--> 906\u001b[0m         _serialize_xml(write, e, qnames, \u001b[38;5;28;01mNone\u001b[39;00m,\n\u001b[1;32m    907\u001b[0m                        short_empty_elements\u001b[38;5;241m=\u001b[39mshort_empty_elements)\n\u001b[1;32m    908\u001b[0m     write(\u001b[38;5;124m\"\u001b[39m\u001b[38;5;124m</\u001b[39m\u001b[38;5;124m\"\u001b[39m \u001b[38;5;241m+\u001b[39m tag \u001b[38;5;241m+\u001b[39m \u001b[38;5;124m\"\u001b[39m\u001b[38;5;124m>\u001b[39m\u001b[38;5;124m\"\u001b[39m)\n\u001b[1;32m    909\u001b[0m \u001b[38;5;28;01melse\u001b[39;00m:\n",
      "File \u001b[0;32m~/anaconda3/lib/python3.11/xml/etree/ElementTree.py:899\u001b[0m, in \u001b[0;36m_serialize_xml\u001b[0;34m(write, elem, qnames, namespaces, short_empty_elements, **kwargs)\u001b[0m\n\u001b[1;32m    897\u001b[0m             v \u001b[38;5;241m=\u001b[39m qnames[v\u001b[38;5;241m.\u001b[39mtext]\n\u001b[1;32m    898\u001b[0m         \u001b[38;5;28;01melse\u001b[39;00m:\n\u001b[0;32m--> 899\u001b[0m             v \u001b[38;5;241m=\u001b[39m _escape_attrib(v)\n\u001b[1;32m    900\u001b[0m         write(\u001b[38;5;124m\"\u001b[39m\u001b[38;5;124m \u001b[39m\u001b[38;5;132;01m%s\u001b[39;00m\u001b[38;5;124m=\u001b[39m\u001b[38;5;130;01m\\\"\u001b[39;00m\u001b[38;5;132;01m%s\u001b[39;00m\u001b[38;5;130;01m\\\"\u001b[39;00m\u001b[38;5;124m\"\u001b[39m \u001b[38;5;241m%\u001b[39m (qnames[k], v))\n\u001b[1;32m    901\u001b[0m \u001b[38;5;28;01mif\u001b[39;00m text \u001b[38;5;129;01mor\u001b[39;00m \u001b[38;5;28mlen\u001b[39m(elem) \u001b[38;5;129;01mor\u001b[39;00m \u001b[38;5;129;01mnot\u001b[39;00m short_empty_elements:\n",
      "File \u001b[0;32m~/anaconda3/lib/python3.11/xml/etree/ElementTree.py:1064\u001b[0m, in \u001b[0;36m_escape_attrib\u001b[0;34m(text)\u001b[0m\n\u001b[1;32m   1062\u001b[0m     \u001b[38;5;28;01mreturn\u001b[39;00m text\n\u001b[1;32m   1063\u001b[0m \u001b[38;5;28;01mexcept\u001b[39;00m (\u001b[38;5;167;01mTypeError\u001b[39;00m, \u001b[38;5;167;01mAttributeError\u001b[39;00m):\n\u001b[0;32m-> 1064\u001b[0m     _raise_serialization_error(text)\n",
      "File \u001b[0;32m~/anaconda3/lib/python3.11/xml/etree/ElementTree.py:1018\u001b[0m, in \u001b[0;36m_raise_serialization_error\u001b[0;34m(text)\u001b[0m\n\u001b[1;32m   1017\u001b[0m \u001b[38;5;28;01mdef\u001b[39;00m \u001b[38;5;21m_raise_serialization_error\u001b[39m(text):\n\u001b[0;32m-> 1018\u001b[0m     \u001b[38;5;28;01mraise\u001b[39;00m \u001b[38;5;167;01mTypeError\u001b[39;00m(\n\u001b[1;32m   1019\u001b[0m         \u001b[38;5;124m\"\u001b[39m\u001b[38;5;124mcannot serialize \u001b[39m\u001b[38;5;132;01m%r\u001b[39;00m\u001b[38;5;124m (type \u001b[39m\u001b[38;5;132;01m%s\u001b[39;00m\u001b[38;5;124m)\u001b[39m\u001b[38;5;124m\"\u001b[39m \u001b[38;5;241m%\u001b[39m (text, \u001b[38;5;28mtype\u001b[39m(text)\u001b[38;5;241m.\u001b[39m\u001b[38;5;18m__name__\u001b[39m)\n\u001b[1;32m   1020\u001b[0m         )\n",
      "\u001b[0;31mTypeError\u001b[0m: cannot serialize PosixPath('/Users/Makkink/Library/CloudStorage/OneDrive-Personal/Documenten/PHD/coding/Quil2Vec/Sample Files/manuscripts_3369_full.jpg') (type PosixPath)"
     ]
    }
   ],
   "source": [
    "txml.write('tested.xml')"
   ]
  },
  {
   "cell_type": "code",
   "execution_count": 1,
   "id": "3df7f6c8",
   "metadata": {},
   "outputs": [
    {
     "data": {
      "text/plain": [
       "[1, 2, 6, 4, 5]"
      ]
     },
     "execution_count": 1,
     "metadata": {},
     "output_type": "execute_result"
    }
   ],
   "source": [
    "lister = [1,2,3,4,5]\n",
    "lister[2] = 6\n",
    "lister"
   ]
  },
  {
   "cell_type": "code",
   "execution_count": 2,
   "id": "f958f7bd",
   "metadata": {},
   "outputs": [
    {
     "ename": "IndexError",
     "evalue": "list assignment index out of range",
     "output_type": "error",
     "traceback": [
      "\u001b[0;31m---------------------------------------------------------------------------\u001b[0m",
      "\u001b[0;31mIndexError\u001b[0m                                Traceback (most recent call last)",
      "Cell \u001b[0;32mIn[2], line 1\u001b[0m\n\u001b[0;32m----> 1\u001b[0m lister[\u001b[38;5;241m6\u001b[39m]\u001b[38;5;241m=\u001b[39m\u001b[38;5;241m7\u001b[39m\n\u001b[1;32m      2\u001b[0m lister\n",
      "\u001b[0;31mIndexError\u001b[0m: list assignment index out of range"
     ]
    }
   ],
   "source": [
    "lister[6]=7\n",
    "lister"
   ]
  }
 ],
 "metadata": {
  "kernelspec": {
   "display_name": "base",
   "language": "python",
   "name": "python3"
  },
  "language_info": {
   "codemirror_mode": {
    "name": "ipython",
    "version": 3
   },
   "file_extension": ".py",
   "mimetype": "text/x-python",
   "name": "python",
   "nbconvert_exporter": "python",
   "pygments_lexer": "ipython3",
   "version": "3.11.5"
  }
 },
 "nbformat": 4,
 "nbformat_minor": 5
}
